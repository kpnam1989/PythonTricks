{
 "cells": [
  {
   "cell_type": "markdown",
   "metadata": {},
   "source": [
    "Check Python version first. It should be at least 3.5"
   ]
  },
  {
   "cell_type": "code",
   "execution_count": 1,
   "metadata": {
    "collapsed": false
   },
   "outputs": [
    {
     "name": "stdout",
     "output_type": "stream",
     "text": [
      "3.5.2 |Anaconda 4.1.1 (64-bit)| (default, Jul  5 2016, 11:41:13) [MSC v.1900 64 bit (AMD64)]\n"
     ]
    }
   ],
   "source": [
    "import sys\n",
    "print(sys.version)"
   ]
  },
  {
   "cell_type": "code",
   "execution_count": 2,
   "metadata": {
    "collapsed": true
   },
   "outputs": [],
   "source": [
    "import tensorflow as tf\n",
    "import numpy as np\n",
    "import pandas as pd\n",
    "from sklearn.datasets import load_boston\n",
    "\n",
    "boston = load_boston()\n",
    "dir(boston)\n",
    "\n",
    "X_data = np.array(boston.data)\n",
    "y_data = np.array(boston.target)\n",
    "\n",
    "n = X_data.shape[0]\n",
    "num_feat = X_data.shape[1]"
   ]
  },
  {
   "cell_type": "markdown",
   "metadata": {},
   "source": [
    "Add a bias column to X and transform y into"
   ]
  },
  {
   "cell_type": "code",
   "execution_count": 4,
   "metadata": {
    "collapsed": false
   },
   "outputs": [
    {
     "name": "stdout",
     "output_type": "stream",
     "text": [
      "Current shape (506, 1)\n",
      "Preiovus shape (506,)\n"
     ]
    }
   ],
   "source": [
    "from sklearn.preprocessing import StandardScaler\n",
    "scaler = StandardScaler()\n",
    "X_scaled = scaler.fit_transform(X_data)\n",
    "\n",
    "# This command is rather complicated\n",
    "# This is taken from the book Hands on Machine Learning \n",
    "# X_bias = np.c_[np.ones((n,1)), X_scaled]\n",
    "X_bias = np.column_stack([np.ones((n,1)), X_scaled])\n",
    "\n",
    "yy = y_data.reshape((-1,1))\n",
    "print(\"Current shape\", yy.shape)\n",
    "print(\"Previous shape\", y_data.shape)"
   ]
  },
  {
   "cell_type": "markdown",
   "metadata": {},
   "source": [
    "# Using Normal Equation\n",
    "Create an interactive session so that we don't have to load it any time"
   ]
  },
  {
   "cell_type": "code",
   "execution_count": 5,
   "metadata": {
    "collapsed": true
   },
   "outputs": [],
   "source": [
    "sess = tf.InteractiveSession()"
   ]
  },
  {
   "cell_type": "markdown",
   "metadata": {},
   "source": [
    "Start creating variables within the session:"
   ]
  },
  {
   "cell_type": "code",
   "execution_count": 6,
   "metadata": {
    "collapsed": true
   },
   "outputs": [],
   "source": [
    "X = tf.constant(X_bias, name = \"X\")\n",
    "y = tf.constant(yy, name = \"y\")\n",
    "\n",
    "cov = tf.matmul(tf.transpose(X), X)\n",
    "cov_inv = tf.matrix_inverse(cov)\n",
    "\n",
    "xty = tf.matmul(X, y, transpose_a=True)\n",
    "theta = tf.matmul(cov_inv, xty, name=\"theta\")"
   ]
  },
  {
   "cell_type": "markdown",
   "metadata": {},
   "source": [
    "Let's check to see if our variables are created in the correct session"
   ]
  },
  {
   "cell_type": "code",
   "execution_count": 7,
   "metadata": {
    "collapsed": false
   },
   "outputs": [
    {
     "data": {
      "text/plain": [
       "True"
      ]
     },
     "execution_count": 7,
     "metadata": {},
     "output_type": "execute_result"
    }
   ],
   "source": [
    "theta.graph is sess.graph"
   ]
  },
  {
   "cell_type": "markdown",
   "metadata": {},
   "source": [
    "To run the code, we need first to initialize all variables first:"
   ]
  },
  {
   "cell_type": "code",
   "execution_count": 8,
   "metadata": {
    "collapsed": true
   },
   "outputs": [],
   "source": [
    "init = tf.global_variables_initializer()\n",
    "init.run()"
   ]
  },
  {
   "cell_type": "markdown",
   "metadata": {},
   "source": [
    "Then we can calculate the variables:"
   ]
  },
  {
   "cell_type": "code",
   "execution_count": 9,
   "metadata": {
    "collapsed": false
   },
   "outputs": [
    {
     "data": {
      "text/plain": [
       "array([[  2.25328063e+01],\n",
       "       [ -9.20411128e-01],\n",
       "       [  1.08098058e+00],\n",
       "       [  1.42967124e-01],\n",
       "       [  6.82203460e-01],\n",
       "       [ -2.06009246e+00],\n",
       "       [  2.67064141e+00],\n",
       "       [  2.11206306e-02],\n",
       "       [ -3.10444805e+00],\n",
       "       [  2.65878654e+00],\n",
       "       [ -2.07589814e+00],\n",
       "       [ -2.06215593e+00],\n",
       "       [  8.56640436e-01],\n",
       "       [ -3.74867982e+00]])"
      ]
     },
     "execution_count": 9,
     "metadata": {},
     "output_type": "execute_result"
    }
   ],
   "source": [
    "theta_val = sess.run(theta)\n",
    "theta_val"
   ]
  },
  {
   "cell_type": "markdown",
   "metadata": {},
   "source": [
    "Let's see what will happen if we close the session."
   ]
  },
  {
   "cell_type": "code",
   "execution_count": 10,
   "metadata": {
    "collapsed": false
   },
   "outputs": [
    {
     "ename": "RuntimeError",
     "evalue": "Attempted to use a closed Session.",
     "output_type": "error",
     "traceback": [
      "\u001b[1;31m---------------------------------------------------------------------------\u001b[0m",
      "\u001b[1;31mRuntimeError\u001b[0m                              Traceback (most recent call last)",
      "\u001b[1;32m<ipython-input-10-e420a74d7ac4>\u001b[0m in \u001b[0;36m<module>\u001b[1;34m()\u001b[0m\n\u001b[0;32m      1\u001b[0m \u001b[0msess\u001b[0m\u001b[1;33m.\u001b[0m\u001b[0mclose\u001b[0m\u001b[1;33m(\u001b[0m\u001b[1;33m)\u001b[0m\u001b[1;33m\u001b[0m\u001b[0m\n\u001b[1;32m----> 2\u001b[1;33m \u001b[0msess\u001b[0m\u001b[1;33m.\u001b[0m\u001b[0mrun\u001b[0m\u001b[1;33m(\u001b[0m\u001b[0mtheta\u001b[0m\u001b[1;33m)\u001b[0m\u001b[1;33m\u001b[0m\u001b[0m\n\u001b[0m",
      "\u001b[1;32mC:\\Anaconda\\lib\\site-packages\\tensorflow\\python\\client\\session.py\u001b[0m in \u001b[0;36mrun\u001b[1;34m(self, fetches, feed_dict, options, run_metadata)\u001b[0m\n\u001b[0;32m    893\u001b[0m     \u001b[1;32mtry\u001b[0m\u001b[1;33m:\u001b[0m\u001b[1;33m\u001b[0m\u001b[0m\n\u001b[0;32m    894\u001b[0m       result = self._run(None, fetches, feed_dict, options_ptr,\n\u001b[1;32m--> 895\u001b[1;33m                          run_metadata_ptr)\n\u001b[0m\u001b[0;32m    896\u001b[0m       \u001b[1;32mif\u001b[0m \u001b[0mrun_metadata\u001b[0m\u001b[1;33m:\u001b[0m\u001b[1;33m\u001b[0m\u001b[0m\n\u001b[0;32m    897\u001b[0m         \u001b[0mproto_data\u001b[0m \u001b[1;33m=\u001b[0m \u001b[0mtf_session\u001b[0m\u001b[1;33m.\u001b[0m\u001b[0mTF_GetBuffer\u001b[0m\u001b[1;33m(\u001b[0m\u001b[0mrun_metadata_ptr\u001b[0m\u001b[1;33m)\u001b[0m\u001b[1;33m\u001b[0m\u001b[0m\n",
      "\u001b[1;32mC:\\Anaconda\\lib\\site-packages\\tensorflow\\python\\client\\session.py\u001b[0m in \u001b[0;36m_run\u001b[1;34m(self, handle, fetches, feed_dict, options, run_metadata)\u001b[0m\n\u001b[0;32m   1051\u001b[0m     \u001b[1;31m# Check session.\u001b[0m\u001b[1;33m\u001b[0m\u001b[1;33m\u001b[0m\u001b[0m\n\u001b[0;32m   1052\u001b[0m     \u001b[1;32mif\u001b[0m \u001b[0mself\u001b[0m\u001b[1;33m.\u001b[0m\u001b[0m_closed\u001b[0m\u001b[1;33m:\u001b[0m\u001b[1;33m\u001b[0m\u001b[0m\n\u001b[1;32m-> 1053\u001b[1;33m       \u001b[1;32mraise\u001b[0m \u001b[0mRuntimeError\u001b[0m\u001b[1;33m(\u001b[0m\u001b[1;34m'Attempted to use a closed Session.'\u001b[0m\u001b[1;33m)\u001b[0m\u001b[1;33m\u001b[0m\u001b[0m\n\u001b[0m\u001b[0;32m   1054\u001b[0m     \u001b[1;32mif\u001b[0m \u001b[0mself\u001b[0m\u001b[1;33m.\u001b[0m\u001b[0mgraph\u001b[0m\u001b[1;33m.\u001b[0m\u001b[0mversion\u001b[0m \u001b[1;33m==\u001b[0m \u001b[1;36m0\u001b[0m\u001b[1;33m:\u001b[0m\u001b[1;33m\u001b[0m\u001b[0m\n\u001b[0;32m   1055\u001b[0m       raise RuntimeError('The Session graph is empty.  Add operations to the '\n",
      "\u001b[1;31mRuntimeError\u001b[0m: Attempted to use a closed Session."
     ]
    }
   ],
   "source": [
    "sess.close()\n",
    "sess.run(theta)"
   ]
  },
  {
   "cell_type": "markdown",
   "metadata": {},
   "source": [
    "# Using Gradient Descent\n",
    "We need to update the values of theta as we proceed down the gradient"
   ]
  },
  {
   "cell_type": "code",
   "execution_count": null,
   "metadata": {
    "collapsed": true
   },
   "outputs": [],
   "source": [
    "sess = tf.InteractiveSession()\n",
    "\n",
    "theta = tf.random_normal((num_feat, 1))"
   ]
  },
  {
   "cell_type": "markdown",
   "metadata": {},
   "source": [
    "# Some basic codes"
   ]
  },
  {
   "cell_type": "code",
   "execution_count": 12,
   "metadata": {
    "collapsed": false
   },
   "outputs": [
    {
     "name": "stdout",
     "output_type": "stream",
     "text": [
      "[ 2.]\n",
      "(2, 2)\n"
     ]
    }
   ],
   "source": [
    "sess = tf.InteractiveSession()\n",
    "a = tf.zeros((2,2))\n",
    "b = tf.ones((1,2))\n",
    "\n",
    "print(tf.reduce_sum(b, reduction_indices=1).eval())\n",
    "\n",
    "print(a.get_shape())\n",
    "\n",
    "sess.close()"
   ]
  },
  {
   "cell_type": "markdown",
   "metadata": {},
   "source": [
    "Simple Tensor flow codes to illustrate that we can initializer 1 variable."
   ]
  },
  {
   "cell_type": "code",
   "execution_count": 63,
   "metadata": {
    "collapsed": false
   },
   "outputs": [
    {
     "name": "stdout",
     "output_type": "stream",
     "text": [
      "[768.0, 32.0]\n"
     ]
    }
   ],
   "source": [
    "x = tf.Variable(2.0)\n",
    "y = 2.0 * (x ** 3)\n",
    "z = 3.0 + y ** 2\n",
    "grad_z = tf.gradients(z, [x, y])\n",
    "with tf.Session() as sess:\n",
    "    sess.run(x.initializer)\n",
    "    print(sess.run(grad_z))"
   ]
  },
  {
   "cell_type": "code",
   "execution_count": 62,
   "metadata": {
    "collapsed": false
   },
   "outputs": [
    {
     "name": "stdout",
     "output_type": "stream",
     "text": [
      "10\n",
      "100\n"
     ]
    }
   ],
   "source": [
    "### Changing the value of a variable at different nodes\n",
    "W = tf.Variable(10)\n",
    "assign_op = W.assign(100)\n",
    "\n",
    "with tf.Session() as sess:\n",
    "    sess.run(W.initializer)\n",
    "    print(W.eval()) # >> 10\n",
    "    print(sess.run(assign_op)) # >> 100"
   ]
  },
  {
   "cell_type": "code",
   "execution_count": null,
   "metadata": {
    "collapsed": true
   },
   "outputs": [],
   "source": [
    "# Similarly\n",
    "# Example 3: each session maintains its own copy of variables\n",
    "# Source: https://github.com/chiphuyen/stanford-tensorflow-tutorials/blob/master/2017/examples/02_variables.py\n",
    "W = tf.Variable(10)\n",
    "sess1 = tf.Session()\n",
    "sess2 = tf.Session()\n",
    "\n",
    "# You have to initialize W at each session\n",
    "sess1.run(W.initializer)\n",
    "sess2.run(W.initializer)\n",
    "\n",
    "print(sess1.run(W.assign_add(10))) # >> 20\n",
    "print(sess2.run(W.assign_sub(2))) # >> 8\n",
    "\n",
    "print(sess1.run(W.assign_add(100))) # >> 120\n",
    "print(sess2.run(W.assign_sub(50))) # >> -42\n",
    "\n",
    "sess1.close()\n",
    "sess2.close()"
   ]
  },
  {
   "cell_type": "markdown",
   "metadata": {},
   "source": [
    "## Linear Regression\n",
    "Notice that after we run the optimization, we have to use sess.run again to get the final values."
   ]
  },
  {
   "cell_type": "code",
   "execution_count": 72,
   "metadata": {
    "collapsed": false
   },
   "outputs": [
    {
     "name": "stdout",
     "output_type": "stream",
     "text": [
      "Init theta:  [[ 0.86462492]\n",
      " [ 1.36153066]\n",
      " [ 0.21057315]\n",
      " [ 0.33255777]\n",
      " [-0.18070459]\n",
      " [ 0.72207183]\n",
      " [ 0.05724321]\n",
      " [-0.36944428]\n",
      " [-1.24097431]\n",
      " [-0.43374175]\n",
      " [ 0.194819  ]\n",
      " [-0.16698825]\n",
      " [-0.78600383]\n",
      " [-0.48621923]]\n",
      "[array([[ 9.5318985 ],\n",
      "       [-0.84208143],\n",
      "       [ 1.93440461],\n",
      "       [-2.13890767],\n",
      "       [ 0.49438566],\n",
      "       [-1.62086225],\n",
      "       [ 2.77928591],\n",
      "       [-2.31837916],\n",
      "       [ 0.45307636],\n",
      "       [-2.48947477],\n",
      "       [-2.21376753],\n",
      "       [-2.21165419],\n",
      "       [ 1.08107591],\n",
      "       [-3.66053152]], dtype=float32), 323.22888]\n"
     ]
    }
   ],
   "source": [
    "## Linear regression\n",
    "## X, y like above\n",
    "X = tf.constant(X_bias, dtype = tf.float32, name = \"X\") \n",
    "y = tf.constant(yy, dtype = tf.float32, name = \"y\")\n",
    "theta = tf.Variable(tf.random_normal(shape=(num_feat+1, 1)),\n",
    "                    name = \"theta\")\n",
    "\n",
    "#theta = tf.random_normal(shape=(num_feat+1, 1))\n",
    "#theta = tf.get_variable(\"weights\", (num_feat+1, 1),\n",
    "#                       initializer=tf.random_normal_initializer())\n",
    "y_predict = tf.matmul(X, theta)\n",
    "error = y_predict - y\n",
    "mse = tf.reduce_mean(tf.square(error), name = \"mse\")\n",
    "opt = tf.train.GradientDescentOptimizer(learning_rate = 0.2)\n",
    "opt_operation = opt.minimize(mse)\n",
    "\n",
    "result = None\n",
    "\n",
    "with tf.Session() as sess:\n",
    "    sess.run(tf.initialize_all_variables())\n",
    "    print(\"Init theta: \", sess.run(theta))\n",
    "    \n",
    "    sess.run(opt_operation)\n",
    "    \n",
    "    # After we run the optimization\n",
    "    result = sess.run([theta, mse])\n",
    "\n",
    "print(result)"
   ]
  },
  {
   "cell_type": "markdown",
   "metadata": {},
   "source": [
    "## Logistic Regression\n",
    "Illustrate how we can load existing data into our program and run a batch optimization"
   ]
  },
  {
   "cell_type": "code",
   "execution_count": null,
   "metadata": {
    "collapsed": true
   },
   "outputs": [],
   "source": []
  }
 ],
 "metadata": {
  "kernelspec": {
   "display_name": "Python [Root]",
   "language": "python",
   "name": "Python [Root]"
  },
  "language_info": {
   "codemirror_mode": {
    "name": "ipython",
    "version": 3
   },
   "file_extension": ".py",
   "mimetype": "text/x-python",
   "name": "python",
   "nbconvert_exporter": "python",
   "pygments_lexer": "ipython3",
   "version": "3.5.2"
  }
 },
 "nbformat": 4,
 "nbformat_minor": 0
}
