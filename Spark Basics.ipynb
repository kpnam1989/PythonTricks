{
 "cells": [
  {
   "cell_type": "markdown",
   "metadata": {},
   "source": [
    "# Cover Type Prediction using ensembles\n",
    "\n",
    "## Dataset Description\n",
    "The dataset represents the data about trees which were planted in the US. The dataset consists of the information about 500000 trees. Your aim is to build  Random Forest Ensemble to predict the cover type of trees. In order to successfully complete this assignment you have to follow this algorithm:\n",
    "* Load the training data\n",
    "* Transform categorical features into vector representations\n",
    "* Split dataset into the train and validation part\n",
    "* Fit the Random Forest Ensemble into the training set\n",
    "* Compare the accuracy of the fitted model with the Logistic Regression Model, which is about 0.67 for this set\n",
    "\n",
    "\n",
    "If you have enough time, it will be very interesting to dig into further research through these steps:\n",
    "* Determine which features are valuable for your model (calculate feature importance of your model).\n",
    "* Try to reduce number of trees and see the results.\n",
    "* Understand why the linear models have poor performance on this dataset.\n"
   ]
  },
  {
   "cell_type": "markdown",
   "metadata": {},
   "source": [
    "## Loading data"
   ]
  },
  {
   "cell_type": "markdown",
   "metadata": {},
   "source": [
    "Init pyspark session"
   ]
  },
  {
   "cell_type": "code",
   "execution_count": 4,
   "metadata": {
    "collapsed": true
   },
   "outputs": [],
   "source": [
    "from __future__ import division, print_function, unicode_literals # For the compatibility with Python 2"
   ]
  },
  {
   "cell_type": "code",
   "execution_count": 6,
   "metadata": {
    "collapsed": true
   },
   "outputs": [],
   "source": [
    "from pyspark.sql import SparkSession\n",
    "spark_session = SparkSession.builder\\\n",
    "                            .enableHiveSupport()\\\n",
    "                            .appName(\"spark sql\")\\\n",
    "                            .master(\"local[4]\")\\\n",
    "                            .getOrCreate()"
   ]
  },
  {
   "cell_type": "markdown",
   "metadata": {},
   "source": [
    "Load train dataset located at /data/covertype2 with at least 60 partitions (use function repartition for this case). Use option `inferSchema` to save numerical features."
   ]
  },
  {
   "cell_type": "code",
   "execution_count": 7,
   "metadata": {
    "collapsed": true
   },
   "outputs": [],
   "source": [
    "sc = spark_session.sparkContext\n",
    "data = spark_session.read.csv(\"/data/covertype2/train.csv\", header = True, inferSchema=True)"
   ]
  },
  {
   "cell_type": "code",
   "execution_count": 13,
   "metadata": {},
   "outputs": [
    {
     "data": {
      "text/plain": [
       "Row(Elevation=3122, Aspect=266, Slope=10, Horizontal_Distance_To_Hydrology=433, Vertical_Distance_To_Hydrology=75, Horizontal_Distance_To_Roadways=3069, Hillshade_9am=195, Hillshade_Noon=245, Hillshade_3pm=188, Horizontal_Distance_To_Fire_Points=451, Wild_Type='Comanche', Soil_Type='Catamount family - Rock outcrop - Leighcan family complex, extremely stony.', Target=1)"
      ]
     },
     "execution_count": 13,
     "metadata": {},
     "output_type": "execute_result"
    }
   ],
   "source": [
    "# data.collect()\n",
    "# http://spark.apache.org/docs/2.1.0/api/python/pyspark.sql.html\n",
    "# data.head(10)\n",
    "# data.select(\"Elevation\", \"Aspect\").head(5)\n",
    "# data.describe()\n",
    "# print(data.dtypes)\n",
    "# data.schema\n",
    "# print(data.count())\n",
    "# data.explain()\n",
    "# type(data)\n",
    "# data.head()\n",
    "\n",
    "# xx = SoilIndex_data_onehot.head()\n",
    "# xx.SoilVec\n",
    "# xx.SoilVec.toArray()"
   ]
  },
  {
   "cell_type": "markdown",
   "metadata": {},
   "source": [
    "## Transforming data"
   ]
  },
  {
   "cell_type": "markdown",
   "metadata": {},
   "source": [
    "As you can see, there are two categorical features in dataset: 'Soil_Type' and 'Wild_Type'. You have to transform them into the vector embeddings."
   ]
  },
  {
   "cell_type": "markdown",
   "metadata": {},
   "source": [
    "First of all, you have to use StringIndexer to transform feature types to indexes"
   ]
  },
  {
   "cell_type": "code",
   "execution_count": 16,
   "metadata": {
    "collapsed": true
   },
   "outputs": [],
   "source": [
    "from pyspark.ml.feature import StringIndexer, OneHotEncoder"
   ]
  },
  {
   "cell_type": "code",
   "execution_count": 35,
   "metadata": {},
   "outputs": [
    {
     "data": {
      "text/plain": [
       "Row(Elevation=3122, Aspect=266, Slope=10, Horizontal_Distance_To_Hydrology=433, Vertical_Distance_To_Hydrology=75, Horizontal_Distance_To_Roadways=3069, Hillshade_9am=195, Hillshade_Noon=245, Hillshade_3pm=188, Horizontal_Distance_To_Fire_Points=451, Wild_Type='Comanche', Soil_Type='Catamount family - Rock outcrop - Leighcan family complex, extremely stony.', Target=1, SoilIndex=2.0, SoilVec=SparseVector(39, {2: 1.0}), WildIndex=1.0, WildVec=SparseVector(3, {1: 1.0}))"
      ]
     },
     "execution_count": 35,
     "metadata": {},
     "output_type": "execute_result"
    }
   ],
   "source": [
    "Indexer_Soil = StringIndexer(inputCol = 'Soil_Type', outputCol = \"SoilIndex\")\n",
    "Indexer_Soil_model = Indexer_Soil.fit(data)\n",
    "SoilIndex_data = Indexer_Soil_model.transform(data)\n",
    "\n",
    "encoder_Soil = OneHotEncoder(inputCol = \"SoilIndex\", outputCol = \"SoilVec\")\n",
    "encoder_Soil.setDropLast(True)\n",
    "SoilIndex_data_onehot = encoder_Soil.transform(SoilIndex_data)\n",
    "\n",
    "Index_Wild = StringIndexer(inputCol = \"Wild_Type\", outputCol = \"WildIndex\")\n",
    "Index_Wild_model = Index_Wild.fit(SoilIndex_data_onehot)\n",
    "SoilIndex_data_onehot_wild = Index_Wild_model.transform(SoilIndex_data_onehot)\n",
    "\n",
    "encoder_Wild = OneHotEncoder(inputCol = \"WildIndex\", outputCol = \"WildVec\")\n",
    "encoder_Wild.setDropLast(True)\n",
    "data_onehot = encoder_Wild.transform(SoilIndex_data_onehot_wild)\n",
    "\n",
    "data_onehot.head()\n"
   ]
  },
  {
   "cell_type": "markdown",
   "metadata": {},
   "source": [
    "Apply OneHotEncoder technique to the dataset in order to get vectors for the Random Forest classification"
   ]
  },
  {
   "cell_type": "markdown",
   "metadata": {},
   "source": [
    "Use the VectorAssembler technique to accumulate all features into one vector. Don't forget to use features that you have generated"
   ]
  },
  {
   "cell_type": "code",
   "execution_count": 37,
   "metadata": {
    "collapsed": true
   },
   "outputs": [],
   "source": [
    "from pyspark.ml.feature import VectorAssembler"
   ]
  },
  {
   "cell_type": "code",
   "execution_count": 38,
   "metadata": {
    "collapsed": true
   },
   "outputs": [],
   "source": [
    "vector_assembler = VectorAssembler(inputCols=['SoilVec', # feature name of Soil type encoded\n",
    "                                              'WildVec', # feature name of Wild type encoded\n",
    "                                              'Elevation',\n",
    "                                              'Aspect',\n",
    "                                              'Slope',\n",
    "                                              'Horizontal_Distance_To_Hydrology',\n",
    "                                              'Vertical_Distance_To_Hydrology',\n",
    "                                              'Horizontal_Distance_To_Roadways',\n",
    "                                              'Hillshade_9am',\n",
    "                                              'Hillshade_Noon',\n",
    "                                              'Hillshade_3pm',\n",
    "                                              'Horizontal_Distance_To_Fire_Points'\n",
    "                                              ], outputCol='features')"
   ]
  },
  {
   "cell_type": "code",
   "execution_count": 40,
   "metadata": {},
   "outputs": [
    {
     "name": "stdout",
     "output_type": "stream",
     "text": [
      "Row(Elevation=3122, Aspect=266, Slope=10, Horizontal_Distance_To_Hydrology=433, Vertical_Distance_To_Hydrology=75, Horizontal_Distance_To_Roadways=3069, Hillshade_9am=195, Hillshade_Noon=245, Hillshade_3pm=188, Horizontal_Distance_To_Fire_Points=451, Wild_Type='Comanche', Soil_Type='Catamount family - Rock outcrop - Leighcan family complex, extremely stony.', Target=1, SoilIndex=2.0, SoilVec=SparseVector(39, {2: 1.0}), WildIndex=1.0, WildVec=SparseVector(3, {1: 1.0}), features=SparseVector(52, {2: 1.0, 40: 1.0, 42: 3122.0, 43: 266.0, 44: 10.0, 45: 433.0, 46: 75.0, 47: 3069.0, 48: 195.0, 49: 245.0, 50: 188.0, 51: 451.0}))\n"
     ]
    }
   ],
   "source": [
    "data_features = vector_assembler.transform(data_onehot)\n",
    "print(data_features.head())"
   ]
  },
  {
   "cell_type": "markdown",
   "metadata": {},
   "source": [
    "## Training"
   ]
  },
  {
   "cell_type": "markdown",
   "metadata": {},
   "source": [
    "Fit the Random Forest model to the train dataset. Don't forget to split dataset into two parts to check your trained models. It is desirable to use about 100 trees with depth about 7 in order to avoid wasting too much time waiting while your model will be fit to the data. Try to adjust the options 'subsamplingRate' and 'featureSubsetStrategy' to get better results"
   ]
  },
  {
   "cell_type": "markdown",
   "metadata": {},
   "source": [
    "<b> Extra task.</b> Use the Cross-Validation to check your model."
   ]
  },
  {
   "cell_type": "code",
   "execution_count": 41,
   "metadata": {
    "collapsed": true
   },
   "outputs": [],
   "source": [
    "from pyspark.ml.classification import RandomForestClassifier\n",
    "from pyspark.ml.evaluation import MulticlassClassificationEvaluator\n",
    "\n",
    "rf = RandomForestClassifier(labelCol = \"Target\", featuresCol = \"features\", numTrees = 100, maxDepth = 7)"
   ]
  },
  {
   "cell_type": "code",
   "execution_count": 55,
   "metadata": {
    "collapsed": true
   },
   "outputs": [],
   "source": [
    "rf_model = rf.fit(data_features)"
   ]
  },
  {
   "cell_type": "markdown",
   "metadata": {},
   "source": [
    "Get the feature importances of the trained model. What 5 features are the most important in the dataset?"
   ]
  },
  {
   "cell_type": "code",
   "execution_count": 58,
   "metadata": {},
   "outputs": [
    {
     "data": {
      "text/plain": [
       "52"
      ]
     },
     "execution_count": 58,
     "metadata": {},
     "output_type": "execute_result"
    }
   ],
   "source": [
    "xx = rf_model.featureImportances.toArray()\n",
    "len(xx)"
   ]
  },
  {
   "cell_type": "markdown",
   "metadata": {},
   "source": [
    "Apply model to the validation part of your set and get the accuracy score for the data. Use the MulticlassClassificationEvaluator class from the ml.evaluation module. "
   ]
  },
  {
   "cell_type": "code",
   "execution_count": null,
   "metadata": {
    "collapsed": true
   },
   "outputs": [],
   "source": [
    "from pyspark.ml.evaluation import MulticlassClassificationEvaluator"
   ]
  },
  {
   "cell_type": "code",
   "execution_count": 66,
   "metadata": {
    "collapsed": true
   },
   "outputs": [],
   "source": [
    "predictionsandLabel = rf_model.transform(data_features)\n",
    "\n",
    "# RandomForestClassificationModel has no attribute Predict"
   ]
  },
  {
   "cell_type": "code",
   "execution_count": 67,
   "metadata": {},
   "outputs": [
    {
     "data": {
      "text/plain": [
       "Row(Elevation=3122, Aspect=266, Slope=10, Horizontal_Distance_To_Hydrology=433, Vertical_Distance_To_Hydrology=75, Horizontal_Distance_To_Roadways=3069, Hillshade_9am=195, Hillshade_Noon=245, Hillshade_3pm=188, Horizontal_Distance_To_Fire_Points=451, Wild_Type='Comanche', Soil_Type='Catamount family - Rock outcrop - Leighcan family complex, extremely stony.', Target=1, SoilIndex=2.0, SoilVec=SparseVector(39, {2: 1.0}), WildIndex=1.0, WildVec=SparseVector(3, {1: 1.0}), features=SparseVector(52, {2: 1.0, 40: 1.0, 42: 3122.0, 43: 266.0, 44: 10.0, 45: 433.0, 46: 75.0, 47: 3069.0, 48: 195.0, 49: 245.0, 50: 188.0, 51: 451.0}), rawPrediction=DenseVector([0.0, 50.5481, 44.2126, 0.6682, 0.0046, 0.5145, 0.4268, 3.6252]), probability=DenseVector([0.0, 0.5055, 0.4421, 0.0067, 0.0, 0.0051, 0.0043, 0.0363]), prediction=1.0)"
      ]
     },
     "execution_count": 67,
     "metadata": {},
     "output_type": "execute_result"
    }
   ],
   "source": [
    "predictionsandLabel.head()"
   ]
  },
  {
   "cell_type": "code",
   "execution_count": 68,
   "metadata": {
    "collapsed": true
   },
   "outputs": [],
   "source": [
    "evaluator = MulticlassClassificationEvaluator(labelCol=\"Target\", predictionCol=\"prediction\", metricName=\"f1\")"
   ]
  },
  {
   "cell_type": "code",
   "execution_count": 69,
   "metadata": {
    "collapsed": true
   },
   "outputs": [],
   "source": [
    "f1 = evaluator.evaluate(predictionsandLabel)"
   ]
  },
  {
   "cell_type": "code",
   "execution_count": 72,
   "metadata": {},
   "outputs": [
    {
     "data": {
      "text/plain": [
       "0.6728425670212065"
      ]
     },
     "execution_count": 72,
     "metadata": {},
     "output_type": "execute_result"
    }
   ],
   "source": [
    "f1"
   ]
  },
  {
   "cell_type": "markdown",
   "metadata": {},
   "source": [
    "Are your results better than the results from the Logistic Regression model?"
   ]
  },
  {
   "cell_type": "markdown",
   "metadata": {},
   "source": [
    "# Performing test submission"
   ]
  },
  {
   "cell_type": "markdown",
   "metadata": {},
   "source": [
    "Apply the models to the test dataset.\n",
    "\n",
    "<b>Note!</b> Dataset will be changed during the test phase. Your last cell output must be the accuracy score."
   ]
  },
  {
   "cell_type": "code",
   "execution_count": null,
   "metadata": {
    "collapsed": true
   },
   "outputs": [],
   "source": [
    "# Load dataset, transform dataset"
   ]
  },
  {
   "cell_type": "code",
   "execution_count": null,
   "metadata": {
    "collapsed": true
   },
   "outputs": [],
   "source": [
    "# Calculate accuracy"
   ]
  },
  {
   "cell_type": "code",
   "execution_count": null,
   "metadata": {
    "collapsed": true
   },
   "outputs": [],
   "source": [
    "# This is last cell. The results of the evaluator must be here"
   ]
  }
 ],
 "metadata": {
  "kernelspec": {
   "display_name": "Python 3",
   "language": "python",
   "name": "python3"
  },
  "language_info": {
   "codemirror_mode": {
    "name": "ipython",
    "version": 3
   },
   "file_extension": ".py",
   "mimetype": "text/x-python",
   "name": "python",
   "nbconvert_exporter": "python",
   "pygments_lexer": "ipython3",
   "version": "3.6.3"
  }
 },
 "nbformat": 4,
 "nbformat_minor": 2
}
