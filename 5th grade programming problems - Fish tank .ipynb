{
 "cells": [
  {
   "cell_type": "markdown",
   "metadata": {},
   "source": [
    "This is a programming problem for elementary school students in Vietnam, my home country. A Google engineer discovered that this is among the hardest interview problems at Google. I may have encountered similar problem during my education in Vietnam, so I am tempted to solve this problem and revisit my memory lane. \n",
    "\n",
    "When I found this problem in 2013, I did not have much programming experience so I was totally confused. Now that I am more comfortable with programming, I can solve this problem in an intuitive manner."
   ]
  },
  {
   "cell_type": "code",
   "execution_count": 152,
   "metadata": {
    "collapsed": false
   },
   "outputs": [
    {
     "data": {
      "text/plain": [
       "['1000000010001000100000001\\n',\n",
       " '0100000100010100010000010\\n',\n",
       " '0010001000100010001000100\\n',\n",
       " '0001010001000001000101000\\n',\n",
       " '1000100010001000100010000\\n',\n",
       " '0100000100010001010001000\\n',\n",
       " '0010001000100010001000100\\n',\n",
       " '0001010001000100000100010\\n',\n",
       " '0000100010001000000010001\\n',\n",
       " '0001000101000100000101000\\n',\n",
       " '0010001000100010001000100\\n',\n",
       " '0100010000010001010000010\\n',\n",
       " '1000100010001000100010001\\n',\n",
       " '0100000101000001000100010\\n',\n",
       " '0010001000100010001000100\\n',\n",
       " '0001010000010100010001000\\n',\n",
       " '0000100000001000100010000\\n']"
      ]
     },
     "execution_count": 152,
     "metadata": {},
     "output_type": "execute_result"
    }
   ],
   "source": [
    "'''\n",
    "The fish tank problem: determine the maximum area in a fish tank that contains many separating walls\n",
    "https://neil.fraser.name/news/2013/03/16/\n",
    "'''\n",
    "f = open(\"data.txt\")\n",
    "data = f.readlines()\n",
    "f.close()\n",
    "data[0]\n",
    "data"
   ]
  },
  {
   "cell_type": "code",
   "execution_count": 153,
   "metadata": {
    "collapsed": false
   },
   "outputs": [
    {
     "name": "stdout",
     "output_type": "stream",
     "text": [
      "['1', '0', '0', '0', '0', '0', '0', '0', '1', '0', '0', '0', '1', '0', '0', '0', '1', '0', '0', '0', '0', '0', '0', '0', '1']\n",
      "25\n"
     ]
    }
   ],
   "source": [
    "data = [list(line)[:-1] for line in data]\n",
    "print(data[0])\n",
    "print(len(data[0]))"
   ]
  },
  {
   "cell_type": "code",
   "execution_count": 216,
   "metadata": {
    "collapsed": false
   },
   "outputs": [
    {
     "name": "stdout",
     "output_type": "stream",
     "text": [
      "17 17\n",
      "25 25\n"
     ]
    }
   ],
   "source": [
    "colorDf = [[-1 for i in row] for row in data]\n",
    "print(len(colorDf), len(data))\n",
    "print(len(colorDf[0]), len(data[0]))"
   ]
  },
  {
   "cell_type": "code",
   "execution_count": 217,
   "metadata": {
    "collapsed": false,
    "scrolled": true
   },
   "outputs": [
    {
     "name": "stdout",
     "output_type": "stream",
     "text": [
      "[-1, 0, 0, 0, 0, 0, 0, 0, -1, 1, 1, 1, -1, 2, 2, 2, -1, 3, 3, 3, 3, 3, 3, 3, -1]\n",
      "[4, -1, 0, 0, 0, 0, 0, -1, 5, 1, 1, -1, 6, -1, 2, 2, 2, -1, 3, 3, 3, 3, 3, -1, 7]\n",
      "[4, 4, -1, 0, 0, 0, -1, 8, 5, 1, -1, 9, 6, 6, -1, 2, 2, 2, -1, 3, 3, 3, -1, 10, 7]\n",
      "[4, 4, 4, -1, 0, -1, 11, 8, 5, -1, 12, 9, 6, 6, 6, -1, 2, 2, 2, -1, 3, -1, 13, 10, 7]\n",
      "[-1, 4, 4, 4, -1, 14, 11, 8, -1, 15, 12, 9, -1, 6, 6, 6, -1, 2, 2, 2, -1, 16, 13, 10, 7]\n",
      "[17, -1, 4, 4, 4, 4, 4, -1, 18, 15, 12, -1, 19, 6, 6, -1, 20, -1, 2, 2, 2, -1, 13, 10, 7]\n",
      "[17, 17, -1, 4, 4, 4, -1, 21, 18, 15, -1, 22, 19, 6, -1, 23, 20, 20, -1, 2, 2, 2, -1, 10, 7]\n",
      "[17, 17, 17, -1, 4, -1, 24, 21, 18, -1, 25, 22, 19, -1, 26, 23, 20, 20, 20, -1, 2, 2, 2, -1, 7]\n",
      "[17, 17, 17, 17, -1, 27, 24, 21, -1, 28, 25, 22, -1, 29, 26, 23, 20, 20, 20, 20, -1, 2, 2, 2, -1]\n",
      "[17, 17, 17, -1, 30, 27, 24, -1, 31, -1, 25, 22, 22, -1, 26, 23, 20, 20, 20, -1, 32, -1, 2, 2, 2]\n",
      "[17, 17, -1, 33, 30, 27, -1, 34, 31, 31, -1, 22, 22, 22, -1, 23, 20, 20, -1, 35, 32, 32, -1, 2, 2]\n",
      "[17, -1, 36, 33, 30, -1, 37, 34, 31, 31, 31, -1, 22, 22, 22, -1, 20, -1, 38, 35, 32, 32, 32, -1, 2]\n",
      "[-1, 39, 36, 33, -1, 40, 37, 34, -1, 31, 31, 31, -1, 22, 22, 22, -1, 41, 38, 35, -1, 32, 32, 32, -1]\n",
      "[42, -1, 36, 33, 33, 33, 33, -1, 43, -1, 31, 31, 31, 22, 22, -1, 44, 41, 38, -1, 45, 32, 32, -1, 46]\n",
      "[42, 42, -1, 33, 33, 33, -1, 47, 43, 43, -1, 31, 31, 22, -1, 48, 44, 41, -1, 49, 45, 32, -1, 50, 46]\n",
      "[42, 42, 42, -1, 33, -1, 51, 47, 43, 43, 43, -1, 31, -1, 52, 48, 44, -1, 53, 49, 45, -1, 54, 50, 46]\n",
      "[42, 42, 42, 42, -1, 55, 51, 47, 43, 43, 43, 43, -1, 56, 52, 48, -1, 57, 53, 49, -1, 58, 54, 50, 46]\n"
     ]
    }
   ],
   "source": [
    "DictColorsArea = {}\n",
    "DictColorsMap = {}\n",
    "startColor = -1\n",
    "selectColor = -1\n",
    "\n",
    "MAXROW = len(data)\n",
    "MAXCOL = len(data[0])\n",
    "\n",
    "def AdjacentCells(i, j):\n",
    "    candidates = [(i-1, j),\n",
    "                 (i, j+1),\n",
    "                 (i+1, j),\n",
    "                 (i, j-1)]\n",
    "    return [(x, y) for (x,y) in candidates if x >= 0 and x < MAXROW and y >= 0 and y < MAXCOL and data[x][y] == '0']\n",
    "\n",
    "def TackleNeighborcolors(neighborColors):\n",
    "    minColor = min(neighborColors)\n",
    "    for color in neighborColors:\n",
    "        # The following line is actually very important\n",
    "        # it helps reconcile the neighborhood's color\n",
    "        DictColorsMap[DictColorsMap[color]] = DictColorsMap[minColor]\n",
    "        DictColorsMap[color] = DictColorsMap[minColor]\n",
    "\n",
    "for thisRow in range(len(data)):\n",
    "    for thisCol in range(len(data[0])):\n",
    "        if data[thisRow][thisCol] == '0':\n",
    "            neighbors = AdjacentCells(thisRow, thisCol)\n",
    "            neighborColors = set()\n",
    "            for cell in neighbors:\n",
    "                if colorDf[cell[0]][cell[1]] != -1:\n",
    "                    neighborColors.add(colorDf[cell[0]][cell[1]])\n",
    "            \n",
    "            if colorDf[thisRow][thisCol] == -1:\n",
    "                # Select a color from neighbors\n",
    "                if len(neighborColors) == 0:\n",
    "                    selectColor = -1\n",
    "                else:\n",
    "                    selectColor = min(neighborColors)\n",
    "                \n",
    "                if selectColor == -1:\n",
    "                    # add a new color\n",
    "                    startColor += 1\n",
    "                    colorDf[thisRow][thisCol] = startColor\n",
    "                    DictColorsArea[startColor] = 1\n",
    "                    \n",
    "                    DictColorsMap[startColor] = startColor\n",
    "                else:\n",
    "                    colorDf[thisRow][thisCol] = selectColor\n",
    "                    DictColorsArea[selectColor] += 1\n",
    "                    \n",
    "                    TackleNeighborcolors(neighborColors)\n",
    "\n",
    "for row in colorDf:\n",
    "    print(row)"
   ]
  },
  {
   "cell_type": "markdown",
   "metadata": {},
   "source": [
    "There are too many colors. We need to map these colors back to just a few of them. Luckily, we have prepared a dictionary to map between colors:"
   ]
  },
  {
   "cell_type": "code",
   "execution_count": 218,
   "metadata": {
    "collapsed": false
   },
   "outputs": [
    {
     "data": {
      "text/plain": [
       "{0: 0,\n",
       " 1: 4,\n",
       " 2: 2,\n",
       " 3: 3,\n",
       " 4: 4,\n",
       " 5: 1,\n",
       " 6: 6,\n",
       " 7: 7,\n",
       " 8: 1,\n",
       " 9: 6,\n",
       " 10: 7,\n",
       " 11: 4,\n",
       " 12: 6,\n",
       " 13: 7,\n",
       " 14: 4,\n",
       " 15: 6,\n",
       " 16: 7,\n",
       " 17: 17,\n",
       " 18: 6,\n",
       " 19: 6,\n",
       " 20: 20,\n",
       " 21: 6,\n",
       " 22: 6,\n",
       " 23: 20,\n",
       " 24: 6,\n",
       " 25: 6,\n",
       " 26: 20,\n",
       " 27: 6,\n",
       " 28: 6,\n",
       " 29: 20,\n",
       " 30: 6,\n",
       " 31: 6,\n",
       " 32: 32,\n",
       " 33: 6,\n",
       " 34: 31,\n",
       " 35: 32,\n",
       " 36: 6,\n",
       " 37: 6,\n",
       " 38: 32,\n",
       " 39: 6,\n",
       " 40: 6,\n",
       " 41: 32,\n",
       " 42: 42,\n",
       " 43: 43,\n",
       " 44: 32,\n",
       " 45: 32,\n",
       " 46: 46,\n",
       " 47: 43,\n",
       " 48: 32,\n",
       " 49: 32,\n",
       " 50: 46,\n",
       " 51: 43,\n",
       " 52: 32,\n",
       " 53: 32,\n",
       " 54: 46,\n",
       " 55: 43,\n",
       " 56: 32,\n",
       " 57: 32,\n",
       " 58: 46}"
      ]
     },
     "execution_count": 218,
     "metadata": {},
     "output_type": "execute_result"
    }
   ],
   "source": [
    "DictColorsMap"
   ]
  },
  {
   "cell_type": "markdown",
   "metadata": {},
   "source": [
    "We can see that 34 maps to 31 maps to 6 while we want 34 maps to 6 directly."
   ]
  },
  {
   "cell_type": "code",
   "execution_count": 219,
   "metadata": {
    "collapsed": false
   },
   "outputs": [
    {
     "data": {
      "text/plain": [
       "{0: 0,\n",
       " 1: 4,\n",
       " 2: 2,\n",
       " 3: 3,\n",
       " 4: 4,\n",
       " 5: 4,\n",
       " 6: 6,\n",
       " 7: 7,\n",
       " 8: 4,\n",
       " 9: 6,\n",
       " 10: 7,\n",
       " 11: 4,\n",
       " 12: 6,\n",
       " 13: 7,\n",
       " 14: 4,\n",
       " 15: 6,\n",
       " 16: 7,\n",
       " 17: 17,\n",
       " 18: 6,\n",
       " 19: 6,\n",
       " 20: 20,\n",
       " 21: 6,\n",
       " 22: 6,\n",
       " 23: 20,\n",
       " 24: 6,\n",
       " 25: 6,\n",
       " 26: 20,\n",
       " 27: 6,\n",
       " 28: 6,\n",
       " 29: 20,\n",
       " 30: 6,\n",
       " 31: 6,\n",
       " 32: 32,\n",
       " 33: 6,\n",
       " 34: 6,\n",
       " 35: 32,\n",
       " 36: 6,\n",
       " 37: 6,\n",
       " 38: 32,\n",
       " 39: 6,\n",
       " 40: 6,\n",
       " 41: 32,\n",
       " 42: 42,\n",
       " 43: 43,\n",
       " 44: 32,\n",
       " 45: 32,\n",
       " 46: 46,\n",
       " 47: 43,\n",
       " 48: 32,\n",
       " 49: 32,\n",
       " 50: 46,\n",
       " 51: 43,\n",
       " 52: 32,\n",
       " 53: 32,\n",
       " 54: 46,\n",
       " 55: 43,\n",
       " 56: 32,\n",
       " 57: 32,\n",
       " 58: 46}"
      ]
     },
     "execution_count": 219,
     "metadata": {},
     "output_type": "execute_result"
    }
   ],
   "source": [
    "# Remove all indirect mappings\n",
    "for key in DictColorsMap.keys():\n",
    "    finalMap = key\n",
    "    mapList = [finalMap]\n",
    "    \n",
    "    while finalMap != DictColorsMap[finalMap]:\n",
    "        mapList.append(DictColorsMap[finalMap])\n",
    "        finalMap = DictColorsMap[finalMap]\n",
    "    \n",
    "    for thisColor in mapList:\n",
    "        DictColorsMap[thisColor] = finalMap\n",
    "\n",
    "DictColorsMap"
   ]
  },
  {
   "cell_type": "code",
   "execution_count": 220,
   "metadata": {
    "collapsed": false
   },
   "outputs": [
    {
     "name": "stdout",
     "output_type": "stream",
     "text": [
      "[-1, 0, 0, 0, 0, 0, 0, 0, -1, 4, 4, 4, -1, 2, 2, 2, -1, 3, 3, 3, 3, 3, 3, 3, -1]\n",
      "[4, -1, 0, 0, 0, 0, 0, -1, 4, 4, 4, -1, 6, -1, 2, 2, 2, -1, 3, 3, 3, 3, 3, -1, 7]\n",
      "[4, 4, -1, 0, 0, 0, -1, 4, 4, 4, -1, 6, 6, 6, -1, 2, 2, 2, -1, 3, 3, 3, -1, 7, 7]\n",
      "[4, 4, 4, -1, 0, -1, 4, 4, 4, -1, 6, 6, 6, 6, 6, -1, 2, 2, 2, -1, 3, -1, 7, 7, 7]\n",
      "[-1, 4, 4, 4, -1, 4, 4, 4, -1, 6, 6, 6, -1, 6, 6, 6, -1, 2, 2, 2, -1, 7, 7, 7, 7]\n",
      "[17, -1, 4, 4, 4, 4, 4, -1, 6, 6, 6, -1, 6, 6, 6, -1, 20, -1, 2, 2, 2, -1, 7, 7, 7]\n",
      "[17, 17, -1, 4, 4, 4, -1, 6, 6, 6, -1, 6, 6, 6, -1, 20, 20, 20, -1, 2, 2, 2, -1, 7, 7]\n",
      "[17, 17, 17, -1, 4, -1, 6, 6, 6, -1, 6, 6, 6, -1, 20, 20, 20, 20, 20, -1, 2, 2, 2, -1, 7]\n",
      "[17, 17, 17, 17, -1, 6, 6, 6, -1, 6, 6, 6, -1, 20, 20, 20, 20, 20, 20, 20, -1, 2, 2, 2, -1]\n",
      "[17, 17, 17, -1, 6, 6, 6, -1, 6, -1, 6, 6, 6, -1, 20, 20, 20, 20, 20, -1, 32, -1, 2, 2, 2]\n",
      "[17, 17, -1, 6, 6, 6, -1, 6, 6, 6, -1, 6, 6, 6, -1, 20, 20, 20, -1, 32, 32, 32, -1, 2, 2]\n",
      "[17, -1, 6, 6, 6, -1, 6, 6, 6, 6, 6, -1, 6, 6, 6, -1, 20, -1, 32, 32, 32, 32, 32, -1, 2]\n",
      "[-1, 6, 6, 6, -1, 6, 6, 6, -1, 6, 6, 6, -1, 6, 6, 6, -1, 32, 32, 32, -1, 32, 32, 32, -1]\n",
      "[42, -1, 6, 6, 6, 6, 6, -1, 43, -1, 6, 6, 6, 6, 6, -1, 32, 32, 32, -1, 32, 32, 32, -1, 46]\n",
      "[42, 42, -1, 6, 6, 6, -1, 43, 43, 43, -1, 6, 6, 6, -1, 32, 32, 32, -1, 32, 32, 32, -1, 46, 46]\n",
      "[42, 42, 42, -1, 6, -1, 43, 43, 43, 43, 43, -1, 6, -1, 32, 32, 32, -1, 32, 32, 32, -1, 46, 46, 46]\n",
      "[42, 42, 42, 42, -1, 43, 43, 43, 43, 43, 43, 43, -1, 32, 32, 32, -1, 32, 32, 32, -1, 46, 46, 46, 46]\n"
     ]
    }
   ],
   "source": [
    "for thisRow in range(len(colorDf)):\n",
    "    for thisCol in range(len(colorDf[0])):\n",
    "        if data[thisRow][thisCol] == '0':\n",
    "            currentColor = colorDf[thisRow][thisCol]\n",
    "            colorDf[thisRow][thisCol] = DictColorsMap[currentColor]\n",
    "            \n",
    "for row in colorDf:\n",
    "    print(row)"
   ]
  },
  {
   "cell_type": "code",
   "execution_count": 221,
   "metadata": {
    "collapsed": false
   },
   "outputs": [
    {
     "data": {
      "text/plain": [
       "{0: 16,\n",
       " 2: 33,\n",
       " 3: 16,\n",
       " 4: 33,\n",
       " 6: 96,\n",
       " 7: 16,\n",
       " 17: 16,\n",
       " 20: 25,\n",
       " 32: 39,\n",
       " 42: 10,\n",
       " 43: 16,\n",
       " 46: 10}"
      ]
     },
     "execution_count": 221,
     "metadata": {},
     "output_type": "execute_result"
    }
   ],
   "source": [
    "# Area mapping\n",
    "for thisColor in DictColorsArea.keys():\n",
    "    color_map_to = DictColorsMap[thisColor]\n",
    "    if color_map_to != thisColor:\n",
    "        DictColorsArea[color_map_to] += DictColorsArea[thisColor]\n",
    "        DictColorsArea[thisColor] = 0\n",
    "\n",
    "DictColorsArea = { key: DictColorsArea[key] for key in DictColorsArea.keys() if DictColorsArea[key] > 0}\n",
    "DictColorsArea"
   ]
  },
  {
   "cell_type": "code",
   "execution_count": 222,
   "metadata": {
    "collapsed": false
   },
   "outputs": [
    {
     "data": {
      "text/plain": [
       "[(6, 96),\n",
       " (32, 39),\n",
       " (2, 33),\n",
       " (4, 33),\n",
       " (20, 25),\n",
       " (0, 16),\n",
       " (3, 16),\n",
       " (7, 16),\n",
       " (43, 16),\n",
       " (17, 16),\n",
       " (42, 10),\n",
       " (46, 10)]"
      ]
     },
     "execution_count": 222,
     "metadata": {},
     "output_type": "execute_result"
    }
   ],
   "source": [
    "# Which one has the highest area?\n",
    "# https://stackoverflow.com/questions/20944483/python-3-sort-a-dict-by-its-values\n",
    "s = [(k, DictColorsArea[k]) for k in sorted(DictColorsArea, key=DictColorsArea.get, reverse=True)]\n",
    "s"
   ]
  },
  {
   "cell_type": "markdown",
   "metadata": {},
   "source": [
    "Now let's see if we can visualize this fish tank."
   ]
  },
  {
   "cell_type": "code",
   "execution_count": 238,
   "metadata": {
    "collapsed": false
   },
   "outputs": [],
   "source": [
    "MAXCOLOR = 1 + len(DictColorsArea.keys())\n",
    "\n",
    "# Add some randomness to help add some difference to the color palettes\n",
    "availableRange = range(1, 1 + len(DictColorsArea.keys()))\n",
    "newColorMaps = dict(zip(DictColorsArea.keys()\n",
    "                        ,np.random.permutation(availableRange)))\n",
    "\n",
    "colorDf_viz = [[MAXCOLOR for i in row] for row in data]\n",
    "\n",
    "for thisRow in range(len(colorDf)):\n",
    "    for thisCol in range(len(colorDf[0])):\n",
    "        if data[thisRow][thisCol] == '0':\n",
    "            currentColor = colorDf[thisRow][thisCol]\n",
    "            colorDf_viz[thisRow][thisCol] = newColorMaps[DictColorsMap[currentColor]]"
   ]
  },
  {
   "cell_type": "code",
   "execution_count": 239,
   "metadata": {
    "collapsed": false
   },
   "outputs": [
    {
     "data": {
      "text/plain": [
       "<matplotlib.axes._subplots.AxesSubplot at 0x1146c9e8>"
      ]
     },
     "execution_count": 239,
     "metadata": {},
     "output_type": "execute_result"
    },
    {
     "data": {
      "image/png": "[encoded data removed]",
      "text/plain": [
       "<matplotlib.figure.Figure at 0x10fc3be0>"
      ]
     },
     "metadata": {},
     "output_type": "display_data"
    }
   ],
   "source": [
    "# https://seaborn.pydata.org/examples/many_pairwise_correlations.html\n",
    "%matplotlib inline\n",
    "\n",
    "from string import ascii_letters\n",
    "import numpy as np\n",
    "import pandas as pd\n",
    "import seaborn as sns\n",
    "import matplotlib.pyplot as plt\n",
    "\n",
    "sns.set(style=\"white\")\n",
    "\n",
    "dataViz = np.array(colorDf_viz)\n",
    "\n",
    "# Set up the matplotlib figure\n",
    "f, ax = plt.subplots(figsize=(11, 9))\n",
    "\n",
    "# Generate a custom diverging colormap\n",
    "cmap = sns.diverging_palette(256, 0, as_cmap=True)\n",
    "\n",
    "# Draw the heatmap with the mask and correct aspect ratio\n",
    "sns.heatmap(dataViz, cmap= \"PiYG\",\n",
    "            vmax= MAXCOLOR, center=0,\n",
    "            linewidths=.5, cbar_kws={\"shrink\": .5})"
   ]
  }
 ],
 "metadata": {
  "anaconda-cloud": {},
  "kernelspec": {
   "display_name": "Python [Root]",
   "language": "python",
   "name": "Python [Root]"
  },
  "language_info": {
   "codemirror_mode": {
    "name": "ipython",
    "version": 3
   },
   "file_extension": ".py",
   "mimetype": "text/x-python",
   "name": "python",
   "nbconvert_exporter": "python",
   "pygments_lexer": "ipython3",
   "version": "3.5.2"
  }
 },
 "nbformat": 4,
 "nbformat_minor": 0
}
